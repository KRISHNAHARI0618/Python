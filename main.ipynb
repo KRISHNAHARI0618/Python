{
 "cells": [
  {
   "cell_type": "code",
   "execution_count": 1,
   "metadata": {},
   "outputs": [
    {
     "name": "stdout",
     "output_type": "stream",
     "text": [
      "Hari Vardhan Reddy\n",
      "Peddireddy Simply Learning Python\n"
     ]
    }
   ],
   "source": [
    "print(\"Hari Vardhan Reddy\")\n",
    "print(\"Peddireddy Simply Learning Python\")"
   ]
  },
  {
   "cell_type": "code",
   "execution_count": 7,
   "metadata": {},
   "outputs": [
    {
     "ename": "TypeError",
     "evalue": "Method1() takes no arguments",
     "output_type": "error",
     "traceback": [
      "\u001b[0;31m---------------------------------------------------------------------------\u001b[0m",
      "\u001b[0;31mTypeError\u001b[0m                                 Traceback (most recent call last)",
      "Cell \u001b[0;32mIn[7], line 7\u001b[0m\n\u001b[1;32m      4\u001b[0m         \u001b[38;5;28mself\u001b[39m\u001b[38;5;241m.\u001b[39mb \u001b[38;5;241m=\u001b[39m b\n\u001b[1;32m      5\u001b[0m         \u001b[38;5;28mprint\u001b[39m(a\u001b[38;5;241m+\u001b[39mb)\n\u001b[0;32m----> 7\u001b[0m c1 \u001b[38;5;241m=\u001b[39m \u001b[43mMethod1\u001b[49m\u001b[43m(\u001b[49m\u001b[38;5;241;43m10\u001b[39;49m\u001b[43m,\u001b[49m\u001b[38;5;241;43m20\u001b[39;49m\u001b[43m)\u001b[49m\n\u001b[1;32m      8\u001b[0m c1\u001b[38;5;241m.\u001b[39mclassOne(\u001b[38;5;241m10\u001b[39m,\u001b[38;5;241m20\u001b[39m)\n\u001b[1;32m      9\u001b[0m \u001b[38;5;66;03m# c1.classOne(10,20)\u001b[39;00m\n\u001b[1;32m     10\u001b[0m \u001b[38;5;66;03m# print(c2)\u001b[39;00m\n",
      "\u001b[0;31mTypeError\u001b[0m: Method1() takes no arguments"
     ]
    }
   ],
   "source": [
    "class Method1:\n",
    "    def classOne(self,a,b):\n",
    "        self.a = a\n",
    "        self.b = b\n",
    "        print(a+b)\n",
    "        \n",
    "c1 = Method1(10,20)\n",
    "c1.classOne(10,20)\n",
    "# c1.classOne(10,20)\n",
    "# print(c2)"
   ]
  }
 ],
 "metadata": {
  "kernelspec": {
   "display_name": "Python 3 (ipykernel)",
   "language": "python",
   "name": "python3"
  },
  "language_info": {
   "codemirror_mode": {
    "name": "ipython",
    "version": 3
   },
   "file_extension": ".py",
   "mimetype": "text/x-python",
   "name": "python",
   "nbconvert_exporter": "python",
   "pygments_lexer": "ipython3",
   "version": "3.12.1"
  }
 },
 "nbformat": 4,
 "nbformat_minor": 2
}
